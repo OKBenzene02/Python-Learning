{
 "cells": [
  {
   "cell_type": "code",
   "execution_count": 9,
   "id": "652ac74f",
   "metadata": {},
   "outputs": [
    {
     "name": "stdout",
     "output_type": "stream",
     "text": [
      "  Names  Phone number  Maths  Physics  Chemistry  Computers  Total marks  \\\n",
      "0     A     385209850     95       89         89         91          364   \n",
      "3     D     982375095     90       95         86         97          368   \n",
      "4     E     948754125     91       92         90         93          366   \n",
      "5     F     348975421     92       93         91         92          368   \n",
      "7     H     415451452     86       98         95         94          373   \n",
      "\n",
      "   Percentage Unnamed: 8  \n",
      "0          91        NaN  \n",
      "3          92        NaN  \n",
      "4          91        NaN  \n",
      "5          92        NaN  \n",
      "7          93        NaN  \n"
     ]
    }
   ],
   "source": [
    "import pandas as pd\n",
    "df = pd.read_csv(\"studentmarks.csv\")\n",
    "column_details = df[df[\"Percentage\"] > 90]\n",
    "print(column_details)\n"
   ]
  },
  {
   "cell_type": "code",
   "execution_count": null,
   "id": "d85c6ae2",
   "metadata": {},
   "outputs": [],
   "source": []
  },
  {
   "cell_type": "code",
   "execution_count": null,
   "id": "b7ba2923",
   "metadata": {},
   "outputs": [],
   "source": []
  }
 ],
 "metadata": {
  "kernelspec": {
   "display_name": "Python 3",
   "language": "python",
   "name": "python3"
  },
  "language_info": {
   "codemirror_mode": {
    "name": "ipython",
    "version": 3
   },
   "file_extension": ".py",
   "mimetype": "text/x-python",
   "name": "python",
   "nbconvert_exporter": "python",
   "pygments_lexer": "ipython3",
   "version": "3.8.5"
  }
 },
 "nbformat": 4,
 "nbformat_minor": 5
}
